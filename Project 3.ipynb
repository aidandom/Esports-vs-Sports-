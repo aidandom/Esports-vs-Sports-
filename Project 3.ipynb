{
 "cells": [
  {
   "cell_type": "markdown",
   "metadata": {},
   "source": [
    "# Reddit Project - Sports vs Esports"
   ]
  },
  {
   "cell_type": "markdown",
   "metadata": {},
   "source": [
    "---"
   ]
  },
  {
   "cell_type": "markdown",
   "metadata": {},
   "source": [
    "## Table of Contents\n",
    "\n",
    "\n",
    "- [Get and read in Data](#data)\n",
    "\n",
    "- [Preprocessing](#pre)\n",
    "\n",
    "- [EDA](#eda)\n",
    "\n",
    "- [Modeling](#models)\n",
    "\n",
    "- [Classification Metrics](#class_metrics)\n",
    "\n",
    "- [Top Words](#top_words)"
   ]
  },
  {
   "cell_type": "markdown",
   "metadata": {},
   "source": [
    "---"
   ]
  },
  {
   "cell_type": "markdown",
   "metadata": {},
   "source": [
    "### Imports"
   ]
  },
  {
   "cell_type": "code",
   "execution_count": 24,
   "metadata": {},
   "outputs": [],
   "source": [
    "import requests\n",
    "import pandas as pd\n",
    "import numpy as np\n",
    "\n",
    "import nltk\n",
    "import regex as re\n",
    "from nltk.tokenize import RegexpTokenizer\n",
    "from nltk.stem import WordNetLemmatizer \n",
    "from nltk.stem.porter import PorterStemmer\n",
    "\n",
    "from sklearn.feature_extraction.text import CountVectorizer, TfidfVectorizer\n",
    "from sklearn.model_selection import train_test_split, GridSearchCV\n",
    "from sklearn.pipeline import Pipeline\n",
    "from sklearn.linear_model import LogisticRegression\n",
    "from sklearn.svm import SVC\n",
    "from sklearn.naive_bayes import MultinomialNB, GaussianNB\n",
    "\n",
    "import matplotlib.pyplot as plt"
   ]
  },
  {
   "cell_type": "markdown",
   "metadata": {},
   "source": [
    "---"
   ]
  },
  {
   "cell_type": "markdown",
   "metadata": {},
   "source": [
    "## Get and read in Data <a id='read'></a>"
   ]
  },
  {
   "cell_type": "code",
   "execution_count": 25,
   "metadata": {},
   "outputs": [],
   "source": [
    "url = 'https://api.pushshift.io/reddit/search/submission'\n",
    "\n",
    "params_es = {\n",
    "    'subreddit': 'esports',\n",
    "    'size': 1000\n",
    "}\n",
    "\n",
    "params_s = {\n",
    "    'subreddit': 'sports',\n",
    "    'size': 1000\n",
    "}"
   ]
  },
  {
   "cell_type": "code",
   "execution_count": 26,
   "metadata": {},
   "outputs": [
    {
     "name": "stdout",
     "output_type": "stream",
     "text": [
      "r/esports status code: 200\n",
      "r/sports status code: 200\n"
     ]
    }
   ],
   "source": [
    "import time\n",
    "time.sleep(3)\n",
    "res_es = requests.get(url, params_es)\n",
    "res_s = requests.get(url, params_s)\n",
    "\n",
    "print('r/esports status code:', res_es.status_code)\n",
    "print('r/sports status code:', res_s.status_code)"
   ]
  },
  {
   "cell_type": "code",
   "execution_count": 27,
   "metadata": {},
   "outputs": [
    {
     "name": "stdout",
     "output_type": "stream",
     "text": [
      "r/esports posts: 1000\n",
      "r/sports posts: 1000\n"
     ]
    }
   ],
   "source": [
    "data_es = res_es.json()\n",
    "data_s = res_s.json()\n",
    "\n",
    "esports = data_es['data']\n",
    "sports = data_s['data']\n",
    "\n",
    "print(f'r/esports posts: {len(esports)}')\n",
    "print(f'r/sports posts: {len(sports)}')"
   ]
  },
  {
   "cell_type": "code",
   "execution_count": 28,
   "metadata": {},
   "outputs": [],
   "source": [
    "esp = pd.DataFrame(esports)\n",
    "sp = pd.DataFrame(sports)\n",
    "\n",
    "# create dataframes only for relevant features\n",
    "esp = esp[['subreddit', 'selftext', 'title']].copy()\n",
    "\n",
    "sp = sp[['subreddit', 'selftext', 'title']].copy()"
   ]
  },
  {
   "cell_type": "markdown",
   "metadata": {},
   "source": [
    "---"
   ]
  },
  {
   "cell_type": "markdown",
   "metadata": {},
   "source": [
    "## Preprocessing <a id='pre'></a>\n",
    "\n",
    "- Tokenizing\n",
    "- Regular Expressions\n",
    "- Lemmatizing/Stemming\n",
    "- Cleaning"
   ]
  },
  {
   "cell_type": "markdown",
   "metadata": {},
   "source": [
    "### Cleaning"
   ]
  },
  {
   "cell_type": "code",
   "execution_count": 29,
   "metadata": {},
   "outputs": [
    {
     "name": "stderr",
     "output_type": "stream",
     "text": [
      "/Users/aidandominguez/opt/anaconda3/lib/python3.6/site-packages/ipykernel_launcher.py:3: FutureWarning: Passing a negative integer is deprecated in version 1.0 and will not be supported in future version. Instead, use None to not limit the column width.\n",
      "  This is separate from the ipykernel package so we can avoid doing imports until\n"
     ]
    },
    {
     "data": {
      "text/plain": [
       "sports     1000\n",
       "esports    1000\n",
       "Name: subreddit, dtype: int64"
      ]
     },
     "execution_count": 29,
     "metadata": {},
     "output_type": "execute_result"
    }
   ],
   "source": [
    "# option to view full title text\n",
    "pd.options.display.max_rows\n",
    "pd.set_option('display.max_colwidth', -1)\n",
    "# https://songhuiming.github.io/pages/2017/04/02/jupyter-and-pandas-display/\n",
    "\n",
    "# combine data frames\n",
    "df = esp.append(sp, ignore_index=True)\n",
    "df.subreddit.value_counts()"
   ]
  },
  {
   "cell_type": "code",
   "execution_count": 30,
   "metadata": {},
   "outputs": [],
   "source": [
    "# change NaN entry for selftext to empty string\n",
    "df[df.selftext.isnull()]['title']\n",
    "\n",
    "df.selftext.fillna('', inplace=True)"
   ]
  },
  {
   "cell_type": "code",
   "execution_count": 31,
   "metadata": {},
   "outputs": [
    {
     "data": {
      "text/plain": [
       "subreddit    0\n",
       "selftext     0\n",
       "title        0\n",
       "dtype: int64"
      ]
     },
     "execution_count": 31,
     "metadata": {},
     "output_type": "execute_result"
    }
   ],
   "source": [
    "df.isnull().sum()"
   ]
  },
  {
   "cell_type": "markdown",
   "metadata": {},
   "source": [
    "### Regular Expressions"
   ]
  },
  {
   "cell_type": "code",
   "execution_count": 32,
   "metadata": {},
   "outputs": [
    {
     "data": {
      "text/plain": [
       "0    Charity esports stream to raise money for Project HOPE                    \n",
       "1    Any Teams Looking For an editor                                           \n",
       "2    Dual Diagnosis Treatment Centers Massachusetts                            \n",
       "3    Not everything is perfect what are some of the biggest issues with esports\n",
       "4    Huh                                                                       \n",
       "Name: title, dtype: object"
      ]
     },
     "execution_count": 32,
     "metadata": {},
     "output_type": "execute_result"
    }
   ],
   "source": [
    "# remove any urls, etc.\n",
    "df.title = df.title.replace('http\\S+', '', regex=True).replace('www\\S+', '', regex=True).replace('#\\S+', '', regex=True).replace('\\n\\n\\S+', '', regex=True)\n",
    "\n",
    "# remove all non-english characters and numbers\n",
    "df.title = df.title.map(lambda x: re.sub('[^a-zA-z ]','', x))\n",
    "df.selftext = df.selftext.map(lambda x: re.sub('[^a-zA-z ]','', x))\n",
    "\n",
    "df.title.head()"
   ]
  },
  {
   "cell_type": "markdown",
   "metadata": {},
   "source": [
    "### Tokenizing & Lemmatizing"
   ]
  },
  {
   "cell_type": "code",
   "execution_count": 33,
   "metadata": {},
   "outputs": [],
   "source": [
    "# tokenize title entries\n",
    "tokenizer = RegexpTokenizer(r'\\w+')\n",
    "df['title_tokens'] = df['title'].map(lambda entry: tokenizer.tokenize(entry))"
   ]
  },
  {
   "cell_type": "code",
   "execution_count": 34,
   "metadata": {},
   "outputs": [],
   "source": [
    "# lemmatize title tokens\n",
    "lemmatizer = WordNetLemmatizer()\n",
    "df['title_lemmatized'] = df['title_tokens'].map(lambda list_of_words: [\n",
    "    lemmatizer.lemmatize(word.lower()) for word in list_of_words ])"
   ]
  },
  {
   "cell_type": "code",
   "execution_count": 35,
   "metadata": {},
   "outputs": [
    {
     "data": {
      "text/html": [
       "<div>\n",
       "<style scoped>\n",
       "    .dataframe tbody tr th:only-of-type {\n",
       "        vertical-align: middle;\n",
       "    }\n",
       "\n",
       "    .dataframe tbody tr th {\n",
       "        vertical-align: top;\n",
       "    }\n",
       "\n",
       "    .dataframe thead th {\n",
       "        text-align: right;\n",
       "    }\n",
       "</style>\n",
       "<table border=\"1\" class=\"dataframe\">\n",
       "  <thead>\n",
       "    <tr style=\"text-align: right;\">\n",
       "      <th></th>\n",
       "      <th>subreddit</th>\n",
       "      <th>selftext</th>\n",
       "      <th>title</th>\n",
       "      <th>title_tokens</th>\n",
       "      <th>title_lemmatized</th>\n",
       "      <th>title_adjusted</th>\n",
       "    </tr>\n",
       "  </thead>\n",
       "  <tbody>\n",
       "    <tr>\n",
       "      <th>0</th>\n",
       "      <td>esports</td>\n",
       "      <td></td>\n",
       "      <td>Charity esports stream to raise money for Project HOPE</td>\n",
       "      <td>[Charity, esports, stream, to, raise, money, for, Project, HOPE]</td>\n",
       "      <td>[charity, esports, stream, to, raise, money, for, project, hope]</td>\n",
       "      <td>charity esports stream to raise money for project hope</td>\n",
       "    </tr>\n",
       "    <tr>\n",
       "      <th>1</th>\n",
       "      <td>esports</td>\n",
       "      <td>Any Teams Looking For an editorAll My Work is  mjsouls\\_ on instagramIm Looking to improve as well</td>\n",
       "      <td>Any Teams Looking For an editor</td>\n",
       "      <td>[Any, Teams, Looking, For, an, editor]</td>\n",
       "      <td>[any, team, looking, for, an, editor]</td>\n",
       "      <td>any team looking for an editor</td>\n",
       "    </tr>\n",
       "    <tr>\n",
       "      <th>2</th>\n",
       "      <td>esports</td>\n",
       "      <td></td>\n",
       "      <td>Dual Diagnosis Treatment Centers Massachusetts</td>\n",
       "      <td>[Dual, Diagnosis, Treatment, Centers, Massachusetts]</td>\n",
       "      <td>[dual, diagnosis, treatment, center, massachusetts]</td>\n",
       "      <td>dual diagnosis treatment center massachusetts</td>\n",
       "    </tr>\n",
       "    <tr>\n",
       "      <th>3</th>\n",
       "      <td>esports</td>\n",
       "      <td>Exactly what the title says why hasnt it broken out to mainstream media Why does it feel stagnant Etc Just looking for some insight not meant to belittle of offend</td>\n",
       "      <td>Not everything is perfect what are some of the biggest issues with esports</td>\n",
       "      <td>[Not, everything, is, perfect, what, are, some, of, the, biggest, issues, with, esports]</td>\n",
       "      <td>[not, everything, is, perfect, what, are, some, of, the, biggest, issue, with, esports]</td>\n",
       "      <td>not everything is perfect what are some of the biggest issue with esports</td>\n",
       "    </tr>\n",
       "    <tr>\n",
       "      <th>4</th>\n",
       "      <td>esports</td>\n",
       "      <td>Can I post team recruitment here</td>\n",
       "      <td>Huh</td>\n",
       "      <td>[Huh]</td>\n",
       "      <td>[huh]</td>\n",
       "      <td>huh</td>\n",
       "    </tr>\n",
       "  </tbody>\n",
       "</table>\n",
       "</div>"
      ],
      "text/plain": [
       "  subreddit  \\\n",
       "0  esports    \n",
       "1  esports    \n",
       "2  esports    \n",
       "3  esports    \n",
       "4  esports    \n",
       "\n",
       "                                                                                                                                                              selftext  \\\n",
       "0                                                                                                                                                                        \n",
       "1  Any Teams Looking For an editorAll My Work is  mjsouls\\_ on instagramIm Looking to improve as well                                                                    \n",
       "2                                                                                                                                                                        \n",
       "3  Exactly what the title says why hasnt it broken out to mainstream media Why does it feel stagnant Etc Just looking for some insight not meant to belittle of offend   \n",
       "4  Can I post team recruitment here                                                                                                                                      \n",
       "\n",
       "                                                                        title  \\\n",
       "0  Charity esports stream to raise money for Project HOPE                       \n",
       "1  Any Teams Looking For an editor                                              \n",
       "2  Dual Diagnosis Treatment Centers Massachusetts                               \n",
       "3  Not everything is perfect what are some of the biggest issues with esports   \n",
       "4  Huh                                                                          \n",
       "\n",
       "                                                                               title_tokens  \\\n",
       "0  [Charity, esports, stream, to, raise, money, for, Project, HOPE]                           \n",
       "1  [Any, Teams, Looking, For, an, editor]                                                     \n",
       "2  [Dual, Diagnosis, Treatment, Centers, Massachusetts]                                       \n",
       "3  [Not, everything, is, perfect, what, are, some, of, the, biggest, issues, with, esports]   \n",
       "4  [Huh]                                                                                      \n",
       "\n",
       "                                                                          title_lemmatized  \\\n",
       "0  [charity, esports, stream, to, raise, money, for, project, hope]                          \n",
       "1  [any, team, looking, for, an, editor]                                                     \n",
       "2  [dual, diagnosis, treatment, center, massachusetts]                                       \n",
       "3  [not, everything, is, perfect, what, are, some, of, the, biggest, issue, with, esports]   \n",
       "4  [huh]                                                                                     \n",
       "\n",
       "                                                              title_adjusted  \n",
       "0  charity esports stream to raise money for project hope                     \n",
       "1  any team looking for an editor                                             \n",
       "2  dual diagnosis treatment center massachusetts                              \n",
       "3  not everything is perfect what are some of the biggest issue with esports  \n",
       "4  huh                                                                        "
      ]
     },
     "execution_count": 35,
     "metadata": {},
     "output_type": "execute_result"
    }
   ],
   "source": [
    "df['title_adjusted'] = df['title_lemmatized'].str.join(' ')\n",
    "df.head()"
   ]
  },
  {
   "cell_type": "markdown",
   "metadata": {},
   "source": [
    "---"
   ]
  },
  {
   "cell_type": "markdown",
   "metadata": {},
   "source": [
    "## EDA <a id='eda'></a>\n",
    ">- Found character and word counts and on average the r/Esports posts had more words and characters than r/Sports posts\n",
    "- Cleaned dataset by removing entries where there were no titles (`13`)\n",
    "- Used Count Vectorizer to assess key words form each subreddit \n",
    "    - top 20 similar words between the two subreddits : `['league', 'team', 'game', 'coronavirus', 'player', 'new', 'sport', 'covid']`"
   ]
  },
  {
   "cell_type": "code",
   "execution_count": 36,
   "metadata": {},
   "outputs": [
    {
     "data": {
      "text/html": [
       "<div>\n",
       "<style scoped>\n",
       "    .dataframe tbody tr th:only-of-type {\n",
       "        vertical-align: middle;\n",
       "    }\n",
       "\n",
       "    .dataframe tbody tr th {\n",
       "        vertical-align: top;\n",
       "    }\n",
       "\n",
       "    .dataframe thead th {\n",
       "        text-align: right;\n",
       "    }\n",
       "</style>\n",
       "<table border=\"1\" class=\"dataframe\">\n",
       "  <thead>\n",
       "    <tr style=\"text-align: right;\">\n",
       "      <th></th>\n",
       "      <th>subreddit</th>\n",
       "      <th>selftext</th>\n",
       "      <th>title</th>\n",
       "      <th>title_tokens</th>\n",
       "      <th>title_lemmatized</th>\n",
       "      <th>title_adjusted</th>\n",
       "      <th>char_count</th>\n",
       "      <th>word_count</th>\n",
       "    </tr>\n",
       "  </thead>\n",
       "  <tbody>\n",
       "    <tr>\n",
       "      <th>0</th>\n",
       "      <td>esports</td>\n",
       "      <td></td>\n",
       "      <td>Charity esports stream to raise money for Project HOPE</td>\n",
       "      <td>[Charity, esports, stream, to, raise, money, for, Project, HOPE]</td>\n",
       "      <td>[charity, esports, stream, to, raise, money, for, project, hope]</td>\n",
       "      <td>charity esports stream to raise money for project hope</td>\n",
       "      <td>54</td>\n",
       "      <td>9</td>\n",
       "    </tr>\n",
       "    <tr>\n",
       "      <th>1</th>\n",
       "      <td>esports</td>\n",
       "      <td>Any Teams Looking For an editorAll My Work is  mjsouls\\_ on instagramIm Looking to improve as well</td>\n",
       "      <td>Any Teams Looking For an editor</td>\n",
       "      <td>[Any, Teams, Looking, For, an, editor]</td>\n",
       "      <td>[any, team, looking, for, an, editor]</td>\n",
       "      <td>any team looking for an editor</td>\n",
       "      <td>31</td>\n",
       "      <td>6</td>\n",
       "    </tr>\n",
       "    <tr>\n",
       "      <th>2</th>\n",
       "      <td>esports</td>\n",
       "      <td></td>\n",
       "      <td>Dual Diagnosis Treatment Centers Massachusetts</td>\n",
       "      <td>[Dual, Diagnosis, Treatment, Centers, Massachusetts]</td>\n",
       "      <td>[dual, diagnosis, treatment, center, massachusetts]</td>\n",
       "      <td>dual diagnosis treatment center massachusetts</td>\n",
       "      <td>46</td>\n",
       "      <td>5</td>\n",
       "    </tr>\n",
       "    <tr>\n",
       "      <th>3</th>\n",
       "      <td>esports</td>\n",
       "      <td>Exactly what the title says why hasnt it broken out to mainstream media Why does it feel stagnant Etc Just looking for some insight not meant to belittle of offend</td>\n",
       "      <td>Not everything is perfect what are some of the biggest issues with esports</td>\n",
       "      <td>[Not, everything, is, perfect, what, are, some, of, the, biggest, issues, with, esports]</td>\n",
       "      <td>[not, everything, is, perfect, what, are, some, of, the, biggest, issue, with, esports]</td>\n",
       "      <td>not everything is perfect what are some of the biggest issue with esports</td>\n",
       "      <td>74</td>\n",
       "      <td>13</td>\n",
       "    </tr>\n",
       "    <tr>\n",
       "      <th>4</th>\n",
       "      <td>esports</td>\n",
       "      <td>Can I post team recruitment here</td>\n",
       "      <td>Huh</td>\n",
       "      <td>[Huh]</td>\n",
       "      <td>[huh]</td>\n",
       "      <td>huh</td>\n",
       "      <td>3</td>\n",
       "      <td>1</td>\n",
       "    </tr>\n",
       "  </tbody>\n",
       "</table>\n",
       "</div>"
      ],
      "text/plain": [
       "  subreddit  \\\n",
       "0  esports    \n",
       "1  esports    \n",
       "2  esports    \n",
       "3  esports    \n",
       "4  esports    \n",
       "\n",
       "                                                                                                                                                              selftext  \\\n",
       "0                                                                                                                                                                        \n",
       "1  Any Teams Looking For an editorAll My Work is  mjsouls\\_ on instagramIm Looking to improve as well                                                                    \n",
       "2                                                                                                                                                                        \n",
       "3  Exactly what the title says why hasnt it broken out to mainstream media Why does it feel stagnant Etc Just looking for some insight not meant to belittle of offend   \n",
       "4  Can I post team recruitment here                                                                                                                                      \n",
       "\n",
       "                                                                        title  \\\n",
       "0  Charity esports stream to raise money for Project HOPE                       \n",
       "1  Any Teams Looking For an editor                                              \n",
       "2  Dual Diagnosis Treatment Centers Massachusetts                               \n",
       "3  Not everything is perfect what are some of the biggest issues with esports   \n",
       "4  Huh                                                                          \n",
       "\n",
       "                                                                               title_tokens  \\\n",
       "0  [Charity, esports, stream, to, raise, money, for, Project, HOPE]                           \n",
       "1  [Any, Teams, Looking, For, an, editor]                                                     \n",
       "2  [Dual, Diagnosis, Treatment, Centers, Massachusetts]                                       \n",
       "3  [Not, everything, is, perfect, what, are, some, of, the, biggest, issues, with, esports]   \n",
       "4  [Huh]                                                                                      \n",
       "\n",
       "                                                                          title_lemmatized  \\\n",
       "0  [charity, esports, stream, to, raise, money, for, project, hope]                          \n",
       "1  [any, team, looking, for, an, editor]                                                     \n",
       "2  [dual, diagnosis, treatment, center, massachusetts]                                       \n",
       "3  [not, everything, is, perfect, what, are, some, of, the, biggest, issue, with, esports]   \n",
       "4  [huh]                                                                                     \n",
       "\n",
       "                                                              title_adjusted  \\\n",
       "0  charity esports stream to raise money for project hope                      \n",
       "1  any team looking for an editor                                              \n",
       "2  dual diagnosis treatment center massachusetts                               \n",
       "3  not everything is perfect what are some of the biggest issue with esports   \n",
       "4  huh                                                                         \n",
       "\n",
       "   char_count  word_count  \n",
       "0  54          9           \n",
       "1  31          6           \n",
       "2  46          5           \n",
       "3  74          13          \n",
       "4  3           1           "
      ]
     },
     "execution_count": 36,
     "metadata": {},
     "output_type": "execute_result"
    }
   ],
   "source": [
    "# find character count\n",
    "df['char_count'] = df['title'].map(len)\n",
    "# find word count\n",
    "df['word_count'] = df['title'].map(lambda x: len(x.split()))\n",
    "\n",
    "df.head()"
   ]
  },
  {
   "cell_type": "code",
   "execution_count": 37,
   "metadata": {},
   "outputs": [
    {
     "data": {
      "image/png": "[encoded data removed]",
      "text/plain": [
       "<Figure size 864x576 with 1 Axes>"
      ]
     },
     "metadata": {
      "needs_background": "light"
     },
     "output_type": "display_data"
    }
   ],
   "source": [
    "# Character count by class\n",
    "plt.figure(figsize=(12, 8))\n",
    "plt.hist([df[df.subreddit == 'esports']['char_count'],\n",
    "        df[df.subreddit == 'sports']['char_count']],\n",
    "        bins=20, color=['blue', 'goldenrod'], ec='k')\n",
    "plt.title('Character Count by Class', fontsize=25)\n",
    "plt.legend(['Esports', 'Sports']);"
   ]
  },
  {
   "cell_type": "code",
   "execution_count": 38,
   "metadata": {},
   "outputs": [
    {
     "data": {
      "image/png": "[encoded data removed]",
      "text/plain": [
       "<Figure size 864x576 with 1 Axes>"
      ]
     },
     "metadata": {
      "needs_background": "light"
     },
     "output_type": "display_data"
    }
   ],
   "source": [
    "# Word count by class\n",
    "plt.figure(figsize=(12, 8))\n",
    "plt.hist([df[df.subreddit == 'esports']['word_count'],\n",
    "        df[df.subreddit == 'sports']['word_count']],\n",
    "        bins=20, color=['blue', 'goldenrod'], ec='k')\n",
    "plt.title('Word Count by Class', fontsize=25)\n",
    "plt.legend(['Esports', 'Sports']);"
   ]
  },
  {
   "cell_type": "markdown",
   "metadata": {},
   "source": [
    "**Cleaning nulls**"
   ]
  },
  {
   "cell_type": "code",
   "execution_count": 39,
   "metadata": {},
   "outputs": [
    {
     "data": {
      "text/html": [
       "<div>\n",
       "<style scoped>\n",
       "    .dataframe tbody tr th:only-of-type {\n",
       "        vertical-align: middle;\n",
       "    }\n",
       "\n",
       "    .dataframe tbody tr th {\n",
       "        vertical-align: top;\n",
       "    }\n",
       "\n",
       "    .dataframe thead th {\n",
       "        text-align: right;\n",
       "    }\n",
       "</style>\n",
       "<table border=\"1\" class=\"dataframe\">\n",
       "  <thead>\n",
       "    <tr style=\"text-align: right;\">\n",
       "      <th></th>\n",
       "      <th>subreddit</th>\n",
       "      <th>selftext</th>\n",
       "      <th>title</th>\n",
       "      <th>title_tokens</th>\n",
       "      <th>title_lemmatized</th>\n",
       "      <th>title_adjusted</th>\n",
       "      <th>char_count</th>\n",
       "      <th>word_count</th>\n",
       "    </tr>\n",
       "  </thead>\n",
       "  <tbody>\n",
       "    <tr>\n",
       "      <th>275</th>\n",
       "      <td>esports</td>\n",
       "      <td>Hello im a new streamer that tries to get more followers i play csgo valorant css some other games too i would apprusiate if u can take  seconds and go follow mw an turn on notifications  [httpswwwtwitchtvsnowtv]httpswwwtwitchtvsnowtv Best regards mr snow</td>\n",
       "      <td></td>\n",
       "      <td>[]</td>\n",
       "      <td>[]</td>\n",
       "      <td></td>\n",
       "      <td>0</td>\n",
       "      <td>0</td>\n",
       "    </tr>\n",
       "    <tr>\n",
       "      <th>343</th>\n",
       "      <td>esports</td>\n",
       "      <td></td>\n",
       "      <td></td>\n",
       "      <td>[]</td>\n",
       "      <td>[]</td>\n",
       "      <td></td>\n",
       "      <td>0</td>\n",
       "      <td>0</td>\n",
       "    </tr>\n",
       "    <tr>\n",
       "      <th>370</th>\n",
       "      <td>esports</td>\n",
       "      <td></td>\n",
       "      <td></td>\n",
       "      <td>[]</td>\n",
       "      <td>[]</td>\n",
       "      <td></td>\n",
       "      <td>0</td>\n",
       "      <td>0</td>\n",
       "    </tr>\n",
       "    <tr>\n",
       "      <th>716</th>\n",
       "      <td>esports</td>\n",
       "      <td></td>\n",
       "      <td></td>\n",
       "      <td>[]</td>\n",
       "      <td>[]</td>\n",
       "      <td></td>\n",
       "      <td>0</td>\n",
       "      <td>0</td>\n",
       "    </tr>\n",
       "    <tr>\n",
       "      <th>729</th>\n",
       "      <td>esports</td>\n",
       "      <td></td>\n",
       "      <td></td>\n",
       "      <td>[]</td>\n",
       "      <td>[]</td>\n",
       "      <td></td>\n",
       "      <td>0</td>\n",
       "      <td>0</td>\n",
       "    </tr>\n",
       "    <tr>\n",
       "      <th>730</th>\n",
       "      <td>esports</td>\n",
       "      <td></td>\n",
       "      <td></td>\n",
       "      <td>[]</td>\n",
       "      <td>[]</td>\n",
       "      <td></td>\n",
       "      <td>0</td>\n",
       "      <td>0</td>\n",
       "    </tr>\n",
       "    <tr>\n",
       "      <th>732</th>\n",
       "      <td>esports</td>\n",
       "      <td></td>\n",
       "      <td></td>\n",
       "      <td>[]</td>\n",
       "      <td>[]</td>\n",
       "      <td></td>\n",
       "      <td>0</td>\n",
       "      <td>0</td>\n",
       "    </tr>\n",
       "    <tr>\n",
       "      <th>782</th>\n",
       "      <td>esports</td>\n",
       "      <td></td>\n",
       "      <td></td>\n",
       "      <td>[]</td>\n",
       "      <td>[]</td>\n",
       "      <td></td>\n",
       "      <td>0</td>\n",
       "      <td>0</td>\n",
       "    </tr>\n",
       "    <tr>\n",
       "      <th>877</th>\n",
       "      <td>esports</td>\n",
       "      <td></td>\n",
       "      <td></td>\n",
       "      <td>[]</td>\n",
       "      <td>[]</td>\n",
       "      <td></td>\n",
       "      <td>0</td>\n",
       "      <td>0</td>\n",
       "    </tr>\n",
       "    <tr>\n",
       "      <th>911</th>\n",
       "      <td>esports</td>\n",
       "      <td>German soccer professionals from Hanover  are playing FIFA tournament online The starting fees  per player are donated[httpswwwhannoverdeesportslivestreamstayathomecuphtml]httpswwwhannoverdeesportslivestreamstayathomecuphtml</td>\n",
       "      <td></td>\n",
       "      <td>[]</td>\n",
       "      <td>[]</td>\n",
       "      <td></td>\n",
       "      <td>0</td>\n",
       "      <td>0</td>\n",
       "    </tr>\n",
       "    <tr>\n",
       "      <th>1034</th>\n",
       "      <td>sports</td>\n",
       "      <td></td>\n",
       "      <td></td>\n",
       "      <td>[]</td>\n",
       "      <td>[]</td>\n",
       "      <td></td>\n",
       "      <td>0</td>\n",
       "      <td>0</td>\n",
       "    </tr>\n",
       "    <tr>\n",
       "      <th>1092</th>\n",
       "      <td>sports</td>\n",
       "      <td></td>\n",
       "      <td></td>\n",
       "      <td>[]</td>\n",
       "      <td>[]</td>\n",
       "      <td></td>\n",
       "      <td>0</td>\n",
       "      <td>0</td>\n",
       "    </tr>\n",
       "    <tr>\n",
       "      <th>1666</th>\n",
       "      <td>sports</td>\n",
       "      <td></td>\n",
       "      <td></td>\n",
       "      <td>[]</td>\n",
       "      <td>[]</td>\n",
       "      <td></td>\n",
       "      <td>0</td>\n",
       "      <td>0</td>\n",
       "    </tr>\n",
       "    <tr>\n",
       "      <th>1673</th>\n",
       "      <td>sports</td>\n",
       "      <td></td>\n",
       "      <td></td>\n",
       "      <td>[]</td>\n",
       "      <td>[]</td>\n",
       "      <td></td>\n",
       "      <td>0</td>\n",
       "      <td>0</td>\n",
       "    </tr>\n",
       "    <tr>\n",
       "      <th>1699</th>\n",
       "      <td>sports</td>\n",
       "      <td></td>\n",
       "      <td></td>\n",
       "      <td>[]</td>\n",
       "      <td>[]</td>\n",
       "      <td></td>\n",
       "      <td>0</td>\n",
       "      <td>0</td>\n",
       "    </tr>\n",
       "  </tbody>\n",
       "</table>\n",
       "</div>"
      ],
      "text/plain": [
       "     subreddit  \\\n",
       "275   esports    \n",
       "343   esports    \n",
       "370   esports    \n",
       "716   esports    \n",
       "729   esports    \n",
       "730   esports    \n",
       "732   esports    \n",
       "782   esports    \n",
       "877   esports    \n",
       "911   esports    \n",
       "1034  sports     \n",
       "1092  sports     \n",
       "1666  sports     \n",
       "1673  sports     \n",
       "1699  sports     \n",
       "\n",
       "                                                                                                                                                                                                                                                             selftext  \\\n",
       "275   Hello im a new streamer that tries to get more followers i play csgo valorant css some other games too i would apprusiate if u can take  seconds and go follow mw an turn on notifications  [httpswwwtwitchtvsnowtv]httpswwwtwitchtvsnowtv Best regards mr snow   \n",
       "343                                                                                                                                                                                                                                                                     \n",
       "370                                                                                                                                                                                                                                                                     \n",
       "716                                                                                                                                                                                                                                                                     \n",
       "729                                                                                                                                                                                                                                                                     \n",
       "730                                                                                                                                                                                                                                                                     \n",
       "732                                                                                                                                                                                                                                                                     \n",
       "782                                                                                                                                                                                                                                                                     \n",
       "877                                                                                                                                                                                                                                                                     \n",
       "911   German soccer professionals from Hanover  are playing FIFA tournament online The starting fees  per player are donated[httpswwwhannoverdeesportslivestreamstayathomecuphtml]httpswwwhannoverdeesportslivestreamstayathomecuphtml                                  \n",
       "1034                                                                                                                                                                                                                                                                    \n",
       "1092                                                                                                                                                                                                                                                                    \n",
       "1666                                                                                                                                                                                                                                                                    \n",
       "1673                                                                                                                                                                                                                                                                    \n",
       "1699                                                                                                                                                                                                                                                                    \n",
       "\n",
       "     title title_tokens title_lemmatized title_adjusted  char_count  \\\n",
       "275         []           []                              0            \n",
       "343         []           []                              0            \n",
       "370         []           []                              0            \n",
       "716         []           []                              0            \n",
       "729         []           []                              0            \n",
       "730         []           []                              0            \n",
       "732         []           []                              0            \n",
       "782         []           []                              0            \n",
       "877         []           []                              0            \n",
       "911         []           []                              0            \n",
       "1034        []           []                              0            \n",
       "1092        []           []                              0            \n",
       "1666        []           []                              0            \n",
       "1673        []           []                              0            \n",
       "1699        []           []                              0            \n",
       "\n",
       "      word_count  \n",
       "275   0           \n",
       "343   0           \n",
       "370   0           \n",
       "716   0           \n",
       "729   0           \n",
       "730   0           \n",
       "732   0           \n",
       "782   0           \n",
       "877   0           \n",
       "911   0           \n",
       "1034  0           \n",
       "1092  0           \n",
       "1666  0           \n",
       "1673  0           \n",
       "1699  0           "
      ]
     },
     "execution_count": 39,
     "metadata": {},
     "output_type": "execute_result"
    }
   ],
   "source": [
    "df[df['title']==''][:] # only one post has selftext with empty title - drop all"
   ]
  },
  {
   "cell_type": "code",
   "execution_count": 40,
   "metadata": {},
   "outputs": [],
   "source": [
    "df = df.drop(index=df[df['title']==''].index)"
   ]
  },
  {
   "cell_type": "code",
   "execution_count": 41,
   "metadata": {},
   "outputs": [
    {
     "data": {
      "text/plain": [
       "0    1\n",
       "1    1\n",
       "2    1\n",
       "3    1\n",
       "4    1\n",
       "Name: subreddit, dtype: int64"
      ]
     },
     "execution_count": 41,
     "metadata": {},
     "output_type": "execute_result"
    }
   ],
   "source": [
    "df['subreddit'] = df['subreddit'].map({'sports':0, 'esports': 1})\n",
    "\n",
    "df['subreddit'].head()"
   ]
  },
  {
   "cell_type": "markdown",
   "metadata": {},
   "source": [
    "### Count Vectorizer"
   ]
  },
  {
   "cell_type": "code",
   "execution_count": 42,
   "metadata": {},
   "outputs": [],
   "source": [
    "X = df['title_adjusted']\n",
    "\n",
    "cvec = CountVectorizer(stop_words='english',\n",
    "                      lowercase=True,\n",
    "                      min_df = 3)\n",
    "\n",
    "X_text = cvec.fit_transform(X)\n",
    "\n",
    "term_df = pd.DataFrame(X_text.toarray(), columns=cvec.get_feature_names())\n",
    "#term_df.insert(0, 'target', df['subreddit'])"
   ]
  },
  {
   "cell_type": "code",
   "execution_count": 67,
   "metadata": {},
   "outputs": [
    {
     "name": "stdout",
     "output_type": "stream",
     "text": [
      "Sports top words\n"
     ]
    },
    {
     "data": {
      "text/html": [
       "<div>\n",
       "<style scoped>\n",
       "    .dataframe tbody tr th:only-of-type {\n",
       "        vertical-align: middle;\n",
       "    }\n",
       "\n",
       "    .dataframe tbody tr th {\n",
       "        vertical-align: top;\n",
       "    }\n",
       "\n",
       "    .dataframe thead th {\n",
       "        text-align: right;\n",
       "    }\n",
       "</style>\n",
       "<table border=\"1\" class=\"dataframe\">\n",
       "  <thead>\n",
       "    <tr style=\"text-align: right;\">\n",
       "      <th></th>\n",
       "      <th>0</th>\n",
       "    </tr>\n",
       "  </thead>\n",
       "  <tbody>\n",
       "    <tr>\n",
       "      <th>coutinho</th>\n",
       "      <td>coutinho</td>\n",
       "    </tr>\n",
       "    <tr>\n",
       "      <th>chelsea</th>\n",
       "      <td>chelsea</td>\n",
       "    </tr>\n",
       "    <tr>\n",
       "      <th>miss</th>\n",
       "      <td>miss</td>\n",
       "    </tr>\n",
       "    <tr>\n",
       "      <th>league</th>\n",
       "      <td>league</td>\n",
       "    </tr>\n",
       "    <tr>\n",
       "      <th>transfer</th>\n",
       "      <td>transfer</td>\n",
       "    </tr>\n",
       "    <tr>\n",
       "      <th>newcastle</th>\n",
       "      <td>newcastle</td>\n",
       "    </tr>\n",
       "    <tr>\n",
       "      <th>title</th>\n",
       "      <td>title</td>\n",
       "    </tr>\n",
       "    <tr>\n",
       "      <th>race</th>\n",
       "      <td>race</td>\n",
       "    </tr>\n",
       "    <tr>\n",
       "      <th>join</th>\n",
       "      <td>join</td>\n",
       "    </tr>\n",
       "    <tr>\n",
       "      <th>mourinho</th>\n",
       "      <td>mourinho</td>\n",
       "    </tr>\n",
       "  </tbody>\n",
       "</table>\n",
       "</div>"
      ],
      "text/plain": [
       "                   0\n",
       "coutinho   coutinho \n",
       "chelsea    chelsea  \n",
       "miss       miss     \n",
       "league     league   \n",
       "transfer   transfer \n",
       "newcastle  newcastle\n",
       "title      title    \n",
       "race       race     \n",
       "join       join     \n",
       "mourinho   mourinho "
      ]
     },
     "execution_count": 67,
     "metadata": {},
     "output_type": "execute_result"
    }
   ],
   "source": [
    "print('Sports top words')\n",
    "term_df.groupby('target').mean().T.sort_values(1, ascending=False).head(10).index.to_frame()"
   ]
  },
  {
   "cell_type": "code",
   "execution_count": 65,
   "metadata": {},
   "outputs": [
    {
     "name": "stdout",
     "output_type": "stream",
     "text": [
      "Esports top words\n"
     ]
    },
    {
     "data": {
      "text/html": [
       "<div>\n",
       "<style scoped>\n",
       "    .dataframe tbody tr th:only-of-type {\n",
       "        vertical-align: middle;\n",
       "    }\n",
       "\n",
       "    .dataframe tbody tr th {\n",
       "        vertical-align: top;\n",
       "    }\n",
       "\n",
       "    .dataframe thead th {\n",
       "        text-align: right;\n",
       "    }\n",
       "</style>\n",
       "<table border=\"1\" class=\"dataframe\">\n",
       "  <thead>\n",
       "    <tr style=\"text-align: right;\">\n",
       "      <th></th>\n",
       "      <th>0</th>\n",
       "    </tr>\n",
       "  </thead>\n",
       "  <tbody>\n",
       "    <tr>\n",
       "      <th>esports</th>\n",
       "      <td>esports</td>\n",
       "    </tr>\n",
       "    <tr>\n",
       "      <th>league</th>\n",
       "      <td>league</td>\n",
       "    </tr>\n",
       "    <tr>\n",
       "      <th>game</th>\n",
       "      <td>game</td>\n",
       "    </tr>\n",
       "    <tr>\n",
       "      <th>team</th>\n",
       "      <td>team</td>\n",
       "    </tr>\n",
       "    <tr>\n",
       "      <th>valorant</th>\n",
       "      <td>valorant</td>\n",
       "    </tr>\n",
       "    <tr>\n",
       "      <th>sport</th>\n",
       "      <td>sport</td>\n",
       "    </tr>\n",
       "    <tr>\n",
       "      <th>player</th>\n",
       "      <td>player</td>\n",
       "    </tr>\n",
       "    <tr>\n",
       "      <th>tournament</th>\n",
       "      <td>tournament</td>\n",
       "    </tr>\n",
       "    <tr>\n",
       "      <th>new</th>\n",
       "      <td>new</td>\n",
       "    </tr>\n",
       "    <tr>\n",
       "      <th>csgo</th>\n",
       "      <td>csgo</td>\n",
       "    </tr>\n",
       "  </tbody>\n",
       "</table>\n",
       "</div>"
      ],
      "text/plain": [
       "                     0\n",
       "esports     esports   \n",
       "league      league    \n",
       "game        game      \n",
       "team        team      \n",
       "valorant    valorant  \n",
       "sport       sport     \n",
       "player      player    \n",
       "tournament  tournament\n",
       "new         new       \n",
       "csgo        csgo      "
      ]
     },
     "execution_count": 65,
     "metadata": {},
     "output_type": "execute_result"
    }
   ],
   "source": [
    "print('Esports top words')\n",
    "term_df.groupby('target').mean().T.sort_values(0, ascending=False).head(10).index.to_frame()"
   ]
  },
  {
   "cell_type": "code",
   "execution_count": 45,
   "metadata": {
    "scrolled": true
   },
   "outputs": [
    {
     "data": {
      "text/plain": [
       "['league']"
      ]
     },
     "execution_count": 45,
     "metadata": {},
     "output_type": "execute_result"
    }
   ],
   "source": [
    "top_sports_words = list(term_df.groupby('target').mean().T.sort_values(0, ascending=False).head(20).index)\n",
    "top_esports_words = list(term_df.groupby('target').mean().T.sort_values(1, ascending=False).head(20).index)\n",
    "[word for word in top_esports_words if word in top_sports_words]"
   ]
  },
  {
   "cell_type": "markdown",
   "metadata": {},
   "source": [
    "---"
   ]
  },
  {
   "cell_type": "markdown",
   "metadata": {},
   "source": [
    "## Modeling <a id='models'></a>\n",
    ">- Used `GridSearchCV` when testing better-performing models\n",
    "- Models fit and tested: `Logistic Regression`, `KNN`, `MultinomialNB`, `GaussianNB`, and `SVM Polynomial Kernel`\n",
    "- Two best models were **`MultinomialNB`** and **`Logistic Regression`**\n",
    "    - Final model: **`MultinomialNB`**\n",
    "        - After grid searching, MultinomialNB had a slighlty higher test score, so it was chosen as the best model despite both models being slightly underfit\n",
    "       "
   ]
  },
  {
   "cell_type": "code",
   "execution_count": 46,
   "metadata": {},
   "outputs": [],
   "source": [
    "X = df['title_adjusted']\n",
    "y = df['subreddit']\n",
    "\n",
    "X_train, X_test, y_train, y_test = train_test_split(X, y, stratify=y, random_state=13)"
   ]
  },
  {
   "cell_type": "markdown",
   "metadata": {},
   "source": [
    "### KNN"
   ]
  },
  {
   "cell_type": "code",
   "execution_count": 47,
   "metadata": {
    "scrolled": true
   },
   "outputs": [
    {
     "name": "stdout",
     "output_type": "stream",
     "text": [
      "Fitting 5 folds for each of 60 candidates, totalling 300 fits\n"
     ]
    },
    {
     "name": "stderr",
     "output_type": "stream",
     "text": [
      "[Parallel(n_jobs=-1)]: Using backend LokyBackend with 4 concurrent workers.\n",
      "[Parallel(n_jobs=-1)]: Done  42 tasks      | elapsed:    6.7s\n",
      "[Parallel(n_jobs=-1)]: Done 192 tasks      | elapsed:   12.6s\n"
     ]
    },
    {
     "name": "stdout",
     "output_type": "stream",
     "text": [
      "best params: {'cvec__max_features': 100, 'cvec__min_df': 5, 'cvec__stop_words': 'english', 'knn__n_neighbors': 5} \n",
      "\n",
      "training score: 0.8077956989247311\n",
      "testing score: 0.6680080482897385\n"
     ]
    },
    {
     "name": "stderr",
     "output_type": "stream",
     "text": [
      "[Parallel(n_jobs=-1)]: Done 300 out of 300 | elapsed:   16.7s finished\n"
     ]
    }
   ],
   "source": [
    "from sklearn.neighbors import KNeighborsClassifier\n",
    "\n",
    "pipe = Pipeline([\n",
    "    ('cvec', CountVectorizer()),\n",
    "    ('knn', KNeighborsClassifier())\n",
    "])\n",
    "\n",
    "gs = GridSearchCV(pipe,\n",
    "                  {'cvec__min_df': [1, 3, 5, 7],\n",
    "                   'cvec__max_features': [100, 500, 1000],\n",
    "                   'cvec__stop_words': ['english'],\n",
    "                   'knn__n_neighbors': [5, 10, 20, 50, 100]},\n",
    "                 cv = 5,\n",
    "                 verbose = 1,\n",
    "                 n_jobs = -1)\n",
    "\n",
    "results_knn = gs.fit(X_train, y_train)\n",
    "\n",
    "print('best params:', results_knn.best_params_, '\\n')\n",
    "\n",
    "print('training score:', results_knn.best_score_)\n",
    "print('testing score:', results_knn.score(X_test, y_test))"
   ]
  },
  {
   "cell_type": "markdown",
   "metadata": {},
   "source": [
    "### SVM Polynomial Kernel"
   ]
  },
  {
   "cell_type": "code",
   "execution_count": 48,
   "metadata": {},
   "outputs": [
    {
     "name": "stdout",
     "output_type": "stream",
     "text": [
      "SVM Poly training score: 0.885752688172043\n",
      "SVM Poly testing score: 0.7404426559356136\n"
     ]
    }
   ],
   "source": [
    "X_train_cvec = cvec.fit_transform(X_train)\n",
    "X_test_cvec = cvec.transform(X_test)\n",
    "\n",
    "svc = SVC(random_state=13, gamma='scale', kernel='poly')\n",
    "svc.fit(X_train_cvec, y_train)\n",
    "\n",
    "print('SVM Poly training score:', svc.score(X_train_cvec, y_train))\n",
    "print('SVM Poly testing score:', svc.score(X_test_cvec, y_test))"
   ]
  },
  {
   "cell_type": "code",
   "execution_count": 49,
   "metadata": {},
   "outputs": [
    {
     "name": "stdout",
     "output_type": "stream",
     "text": [
      "Fitting 5 folds for each of 18 candidates, totalling 90 fits\n"
     ]
    },
    {
     "name": "stderr",
     "output_type": "stream",
     "text": [
      "[Parallel(n_jobs=-1)]: Using backend LokyBackend with 4 concurrent workers.\n",
      "[Parallel(n_jobs=-1)]: Done  76 tasks      | elapsed:    7.6s\n"
     ]
    },
    {
     "name": "stdout",
     "output_type": "stream",
     "text": [
      "{'vectorizer__max_features': 100, 'vectorizer__ngram_range': (1, 1), 'vectorizer__stop_words': 'english'} \n",
      "\n",
      "SVM grid training score: 0.8084677419354839\n",
      "None\n",
      "SVM grid testing score: 0.7967806841046278\n"
     ]
    },
    {
     "name": "stderr",
     "output_type": "stream",
     "text": [
      "[Parallel(n_jobs=-1)]: Done  90 out of  90 | elapsed:    9.1s finished\n"
     ]
    }
   ],
   "source": [
    "# Pipeline and GridSearchCV for MultinomialNB\n",
    "pipe_complex = Pipeline([\n",
    "    ('vectorizer', CountVectorizer()),\n",
    "    ('model', SVC(gamma='scale', kernel='poly'))\n",
    "])\n",
    "    \n",
    "hyperparams = {\n",
    "    'vectorizer__max_features': [100, 500, None],\n",
    "    'vectorizer__stop_words': ['english', None],\n",
    "    'vectorizer__ngram_range': [(1,1), (1,2), (2,2)],\n",
    "}\n",
    "    \n",
    "gs_complex = GridSearchCV(pipe_complex,\n",
    "                          hyperparams,\n",
    "                          verbose = 1,\n",
    "                          cv = 5,\n",
    "                          n_jobs = -1,\n",
    "                          scoring = 'accuracy')\n",
    "\n",
    "results_svm = gs_complex.fit(X_train, y_train)\n",
    "\n",
    "print(results_svm.best_params_, '\\n')\n",
    "print(print('SVM grid training score:', results_svm.best_score_))\n",
    "print('SVM grid testing score:', results_svm.score(X_test, y_test))"
   ]
  },
  {
   "cell_type": "markdown",
   "metadata": {},
   "source": [
    "### Logistic Regression"
   ]
  },
  {
   "cell_type": "code",
   "execution_count": 50,
   "metadata": {},
   "outputs": [
    {
     "name": "stderr",
     "output_type": "stream",
     "text": [
      "[Parallel(n_jobs=-1)]: Using backend LokyBackend with 4 concurrent workers.\n"
     ]
    },
    {
     "name": "stdout",
     "output_type": "stream",
     "text": [
      "Fitting 5 folds for each of 96 candidates, totalling 480 fits\n"
     ]
    },
    {
     "name": "stderr",
     "output_type": "stream",
     "text": [
      "[Parallel(n_jobs=-1)]: Done  42 tasks      | elapsed:    3.9s\n",
      "[Parallel(n_jobs=-1)]: Done 192 tasks      | elapsed:   14.7s\n",
      "[Parallel(n_jobs=-1)]: Done 442 tasks      | elapsed:   38.6s\n",
      "[Parallel(n_jobs=-1)]: Done 480 out of 480 | elapsed:   43.9s finished\n"
     ]
    },
    {
     "name": "stdout",
     "output_type": "stream",
     "text": [
      "{'model__C': 3, 'model__penalty': 'elasticnet', 'vectorizer': TfidfVectorizer(analyzer='word', binary=False, decode_error='strict',\n",
      "                dtype=<class 'numpy.float64'>, encoding='utf-8',\n",
      "                input='content', lowercase=True, max_df=1.0, max_features=500,\n",
      "                min_df=1, ngram_range=(1, 1), norm='l2', preprocessor=None,\n",
      "                smooth_idf=True, stop_words=None, strip_accents=None,\n",
      "                sublinear_tf=False, token_pattern='(?u)\\\\b\\\\w\\\\w+\\\\b',\n",
      "                tokenizer=None, use_idf=True, vocabulary=None), 'vectorizer__max_features': 500, 'vectorizer__ngram_range': (1, 1)} \n",
      "\n",
      "Log Reg training score: 0.8608870967741935\n",
      "Log Reg testing score: 0.8591549295774648\n"
     ]
    }
   ],
   "source": [
    "pipe_complex = Pipeline([\n",
    "    ('vectorizer', CountVectorizer()),\n",
    "    ('model', LogisticRegression(solver='saga',\n",
    "                                 l1_ratio=.5))\n",
    "])\n",
    "    \n",
    "hyperparams = {\n",
    "    'vectorizer': [CountVectorizer(), TfidfVectorizer()],\n",
    "    'vectorizer__max_features': [100, 500],\n",
    "    'vectorizer__ngram_range': [(1,1), (1,2)],\n",
    "    'model__penalty': ['l1', 'l2', 'elasticnet'],\n",
    "    'model__C': [1, 3, 10, 1000]\n",
    "}\n",
    "    \n",
    "gs_complex = GridSearchCV(pipe_complex,\n",
    "                          hyperparams,\n",
    "                          verbose = 1,\n",
    "                          cv = 5,\n",
    "                          n_jobs = -1,\n",
    "                          scoring = 'accuracy')\n",
    "\n",
    "\n",
    "results_lr = gs_complex.fit(X_train, y_train)\n",
    "\n",
    "print(results_lr.best_params_, '\\n') # parameters for best model\n",
    "\n",
    "# check training and testing scores for model\n",
    "print('Log Reg training score:', results_lr.best_score_) \n",
    "print('Log Reg testing score:', results_lr.score(X_test, y_test))"
   ]
  },
  {
   "cell_type": "markdown",
   "metadata": {},
   "source": [
    "### Naive Bayes Multinomial & Gaussian"
   ]
  },
  {
   "cell_type": "code",
   "execution_count": 51,
   "metadata": {},
   "outputs": [
    {
     "name": "stdout",
     "output_type": "stream",
     "text": [
      "Fitting 5 folds for each of 36 candidates, totalling 180 fits\n"
     ]
    },
    {
     "name": "stderr",
     "output_type": "stream",
     "text": [
      "[Parallel(n_jobs=-1)]: Using backend LokyBackend with 4 concurrent workers.\n",
      "[Parallel(n_jobs=-1)]: Done  76 tasks      | elapsed:    2.7s\n"
     ]
    },
    {
     "name": "stdout",
     "output_type": "stream",
     "text": [
      "{'model__alpha': 1.0, 'vectorizer__max_features': 500, 'vectorizer__ngram_range': (1, 1), 'vectorizer__stop_words': 'english'} \n",
      "\n",
      "NB Multi grid training score: 0.8709677419354839\n",
      "NB Multi grid testing score: 0.8873239436619719\n"
     ]
    },
    {
     "name": "stderr",
     "output_type": "stream",
     "text": [
      "[Parallel(n_jobs=-1)]: Done 180 out of 180 | elapsed:    6.3s finished\n"
     ]
    }
   ],
   "source": [
    "# Pipeline and GridSearchCV for MultinomialNB\n",
    "pipe_complex = Pipeline([\n",
    "    ('vectorizer', CountVectorizer()),\n",
    "    ('model', MultinomialNB())\n",
    "])\n",
    "    \n",
    "hyperparams = {\n",
    "    'vectorizer__max_features': [100, 500],\n",
    "    'vectorizer__stop_words': ['english'],\n",
    "    'vectorizer__ngram_range': [(1,1), (1,2), (2,2)],\n",
    "    'model__alpha': [0.3, 0.4, 0.5, 0.6, 0.7, 1.0],\n",
    "}\n",
    "    \n",
    "gs_complex = GridSearchCV(pipe_complex,\n",
    "                          hyperparams,\n",
    "                          verbose = 1,\n",
    "                          cv = 5,\n",
    "                          n_jobs = -1,\n",
    "                          scoring = 'accuracy')\n",
    "\n",
    "results_mnb = gs_complex.fit(X_train, y_train)\n",
    "\n",
    "print(results_mnb.best_params_, '\\n')\n",
    "print('NB Multi grid training score:', results_mnb.best_score_)\n",
    "print('NB Multi grid testing score:', results_mnb.score(X_test, y_test))"
   ]
  },
  {
   "cell_type": "markdown",
   "metadata": {},
   "source": [
    "## Classification Metrics <a id='class_metrics'></a>\n",
    ">- Sensitivity: `0.894`\n",
    "- Specificity: `0.864`\n",
    "    - The model has more false negatives than false positives\n",
    "- Implications: \n",
    "    - ~10% percent of the time, the model will classify esports posts as sports posts.\n",
    "    - ~14% percent of the time, the model will classify sports posts as esports posts.\n",
    "- ROC AUC score: `0.953`"
   ]
  },
  {
   "cell_type": "markdown",
   "metadata": {},
   "source": [
    "### Confusion Matrix"
   ]
  },
  {
   "cell_type": "code",
   "execution_count": 52,
   "metadata": {},
   "outputs": [
    {
     "data": {
      "text/html": [
       "<div>\n",
       "<style scoped>\n",
       "    .dataframe tbody tr th:only-of-type {\n",
       "        vertical-align: middle;\n",
       "    }\n",
       "\n",
       "    .dataframe tbody tr th {\n",
       "        vertical-align: top;\n",
       "    }\n",
       "\n",
       "    .dataframe thead th {\n",
       "        text-align: right;\n",
       "    }\n",
       "</style>\n",
       "<table border=\"1\" class=\"dataframe\">\n",
       "  <thead>\n",
       "    <tr style=\"text-align: right;\">\n",
       "      <th></th>\n",
       "      <th>predicted sports</th>\n",
       "      <th>predicted esports</th>\n",
       "    </tr>\n",
       "  </thead>\n",
       "  <tbody>\n",
       "    <tr>\n",
       "      <th>actual sports</th>\n",
       "      <td>230</td>\n",
       "      <td>19</td>\n",
       "    </tr>\n",
       "    <tr>\n",
       "      <th>actual esports</th>\n",
       "      <td>51</td>\n",
       "      <td>197</td>\n",
       "    </tr>\n",
       "  </tbody>\n",
       "</table>\n",
       "</div>"
      ],
      "text/plain": [
       "                predicted sports  predicted esports\n",
       "actual sports   230               19               \n",
       "actual esports  51                197              "
      ]
     },
     "execution_count": 52,
     "metadata": {},
     "output_type": "execute_result"
    }
   ],
   "source": [
    "best_model = results_lr.best_estimator_\n",
    "pred = best_model.predict(X_test)\n",
    "\n",
    "from sklearn.metrics import confusion_matrix\n",
    "\n",
    "cm = confusion_matrix(y_test, pred)\n",
    "cm_df = pd.DataFrame(cm, index = ['actual sports', 'actual esports'],\n",
    "                     columns = ['predicted sports', 'predicted esports'])\n",
    "\n",
    "cm_df"
   ]
  },
  {
   "cell_type": "code",
   "execution_count": 53,
   "metadata": {},
   "outputs": [
    {
     "name": "stdout",
     "output_type": "stream",
     "text": [
      "Sensitivity: 0.8947368421052632\n",
      "Specificity: 0.864\n"
     ]
    }
   ],
   "source": [
    "print('Sensitivity:', 221 / (221 + 26))\n",
    "print('Specificity:', 216 / (216 + 34))"
   ]
  },
  {
   "cell_type": "markdown",
   "metadata": {},
   "source": [
    "### ROC AUC"
   ]
  },
  {
   "cell_type": "code",
   "execution_count": 54,
   "metadata": {},
   "outputs": [
    {
     "data": {
      "text/plain": [
       "0.9292816426998315"
      ]
     },
     "execution_count": 54,
     "metadata": {},
     "output_type": "execute_result"
    }
   ],
   "source": [
    "# find predicted probabilities\n",
    "pred_proba = [i[1] for i in best_model.predict_proba(X_test)]\n",
    "\n",
    "# create prediction data frame\n",
    "pred_df = pd.DataFrame({\n",
    "    'true_values': y_test,\n",
    "    'pred_probs': pred_proba\n",
    "})\n",
    "\n",
    "# Calculate ROC AUC.\n",
    "from sklearn.metrics import roc_auc_score\n",
    "\n",
    "roc_auc_score(pred_df['true_values'],\n",
    "              pred_df['pred_probs'])"
   ]
  },
  {
   "cell_type": "code",
   "execution_count": 55,
   "metadata": {
    "scrolled": false
   },
   "outputs": [
    {
     "data": {
      "image/png": "[encoded data removed]",
      "text/plain": [
       "<Figure size 720x504 with 1 Axes>"
      ]
     },
     "metadata": {
      "needs_background": "light"
     },
     "output_type": "display_data"
    }
   ],
   "source": [
    "plt.figure(figsize = (10,7))\n",
    "\n",
    "# Create threshold values. (Dashed red line in image.)\n",
    "thresholds = np.linspace(0, 1, 200)\n",
    "\n",
    "# Define function to calculate sensitivity. (True positive rate.)\n",
    "def TPR(df, true_col, pred_prob_col, threshold):\n",
    "    true_positive = df[(df[true_col] == 1) & (df[pred_prob_col] >= threshold)].shape[0]\n",
    "    false_negative = df[(df[true_col] == 1) & (df[pred_prob_col] < threshold)].shape[0]\n",
    "    return true_positive / (true_positive + false_negative)\n",
    "    \n",
    "\n",
    "# Define function to calculate 1 - specificity. (False positive rate.)\n",
    "def FPR(df, true_col, pred_prob_col, threshold):\n",
    "    true_negative = df[(df[true_col] == 0) & (df[pred_prob_col] <= threshold)].shape[0]\n",
    "    false_positive = df[(df[true_col] == 0) & (df[pred_prob_col] > threshold)].shape[0]\n",
    "    return 1 - (true_negative / (true_negative + false_positive))\n",
    "    \n",
    "# Calculate sensitivity & 1-specificity for each threshold between 0 and 1.\n",
    "tpr_values = [TPR(pred_df, 'true_values', 'pred_probs', prob) for prob in thresholds]\n",
    "fpr_values = [FPR(pred_df, 'true_values', 'pred_probs', prob) for prob in thresholds]\n",
    "\n",
    "# Plot ROC curve.\n",
    "plt.plot(fpr_values, # False Positive Rate on X-axis\n",
    "         tpr_values, # True Positive Rate on Y-axis\n",
    "         label='ROC Curve')\n",
    "\n",
    "# Plot baseline. (Perfect overlap between the two populations.)\n",
    "plt.plot(np.linspace(0, 1, 200),\n",
    "         np.linspace(0, 1, 200),\n",
    "         label='baseline',\n",
    "         linestyle='--')\n",
    "\n",
    "# Label axes.\n",
    "plt.title(f'ROC Curve with AUC = {round(roc_auc_score(pred_df[\"true_values\"], pred_df[\"pred_probs\"]),3)}', fontsize=22)\n",
    "plt.ylabel('Sensitivity', fontsize=18)\n",
    "plt.xlabel('1 - Specificity', fontsize=18)\n",
    "\n",
    "# Create legend.\n",
    "plt.legend(fontsize=16);"
   ]
  },
  {
   "cell_type": "markdown",
   "metadata": {},
   "source": [
    "## Top words <a id='top_words'></a>"
   ]
  },
  {
   "cell_type": "markdown",
   "metadata": {},
   "source": [
    "**Sports**"
   ]
  },
  {
   "cell_type": "code",
   "execution_count": 56,
   "metadata": {},
   "outputs": [
    {
     "data": {
      "text/html": [
       "<div>\n",
       "<style scoped>\n",
       "    .dataframe tbody tr th:only-of-type {\n",
       "        vertical-align: middle;\n",
       "    }\n",
       "\n",
       "    .dataframe tbody tr th {\n",
       "        vertical-align: top;\n",
       "    }\n",
       "\n",
       "    .dataframe thead th {\n",
       "        text-align: right;\n",
       "    }\n",
       "</style>\n",
       "<table border=\"1\" class=\"dataframe\">\n",
       "  <thead>\n",
       "    <tr style=\"text-align: right;\">\n",
       "      <th></th>\n",
       "      <th>0</th>\n",
       "    </tr>\n",
       "  </thead>\n",
       "  <tbody>\n",
       "    <tr>\n",
       "      <th>nba</th>\n",
       "      <td>-3.659506</td>\n",
       "    </tr>\n",
       "    <tr>\n",
       "      <th>nfl</th>\n",
       "      <td>-3.369704</td>\n",
       "    </tr>\n",
       "    <tr>\n",
       "      <th>football</th>\n",
       "      <td>-3.334281</td>\n",
       "    </tr>\n",
       "    <tr>\n",
       "      <th>baseball</th>\n",
       "      <td>-3.280968</td>\n",
       "    </tr>\n",
       "    <tr>\n",
       "      <th>sport</th>\n",
       "      <td>-2.688503</td>\n",
       "    </tr>\n",
       "    <tr>\n",
       "      <th>basketball</th>\n",
       "      <td>-2.529851</td>\n",
       "    </tr>\n",
       "    <tr>\n",
       "      <th>premier</th>\n",
       "      <td>-2.527042</td>\n",
       "    </tr>\n",
       "    <tr>\n",
       "      <th>cricket</th>\n",
       "      <td>-2.395574</td>\n",
       "    </tr>\n",
       "    <tr>\n",
       "      <th>draft</th>\n",
       "      <td>-2.308713</td>\n",
       "    </tr>\n",
       "    <tr>\n",
       "      <th>wa</th>\n",
       "      <td>-2.249426</td>\n",
       "    </tr>\n",
       "    <tr>\n",
       "      <th>woman</th>\n",
       "      <td>-2.216720</td>\n",
       "    </tr>\n",
       "    <tr>\n",
       "      <th>again</th>\n",
       "      <td>-2.121608</td>\n",
       "    </tr>\n",
       "    <tr>\n",
       "      <th>barcelona</th>\n",
       "      <td>-2.047366</td>\n",
       "    </tr>\n",
       "    <tr>\n",
       "      <th>rugby</th>\n",
       "      <td>-2.046339</td>\n",
       "    </tr>\n",
       "    <tr>\n",
       "      <th>poster</th>\n",
       "      <td>-2.021351</td>\n",
       "    </tr>\n",
       "    <tr>\n",
       "      <th>this</th>\n",
       "      <td>-2.006983</td>\n",
       "    </tr>\n",
       "    <tr>\n",
       "      <th>say</th>\n",
       "      <td>-1.974947</td>\n",
       "    </tr>\n",
       "    <tr>\n",
       "      <th>who</th>\n",
       "      <td>-1.941599</td>\n",
       "    </tr>\n",
       "    <tr>\n",
       "      <th>liverpool</th>\n",
       "      <td>-1.877602</td>\n",
       "    </tr>\n",
       "    <tr>\n",
       "      <th>goal</th>\n",
       "      <td>-1.815135</td>\n",
       "    </tr>\n",
       "  </tbody>\n",
       "</table>\n",
       "</div>"
      ],
      "text/plain": [
       "                   0\n",
       "nba        -3.659506\n",
       "nfl        -3.369704\n",
       "football   -3.334281\n",
       "baseball   -3.280968\n",
       "sport      -2.688503\n",
       "basketball -2.529851\n",
       "premier    -2.527042\n",
       "cricket    -2.395574\n",
       "draft      -2.308713\n",
       "wa         -2.249426\n",
       "woman      -2.216720\n",
       "again      -2.121608\n",
       "barcelona  -2.047366\n",
       "rugby      -2.046339\n",
       "poster     -2.021351\n",
       "this       -2.006983\n",
       "say        -1.974947\n",
       "who        -1.941599\n",
       "liverpool  -1.877602\n",
       "goal       -1.815135"
      ]
     },
     "execution_count": 56,
     "metadata": {},
     "output_type": "execute_result"
    }
   ],
   "source": [
    "pd.DataFrame(best_model.steps[1][1].coef_,\n",
    "             columns=best_model.steps[0][1].get_feature_names()).T.sort_values(0).head(20)"
   ]
  },
  {
   "cell_type": "markdown",
   "metadata": {},
   "source": [
    "**Esports**"
   ]
  },
  {
   "cell_type": "code",
   "execution_count": 57,
   "metadata": {},
   "outputs": [
    {
     "data": {
      "text/html": [
       "<div>\n",
       "<style scoped>\n",
       "    .dataframe tbody tr th:only-of-type {\n",
       "        vertical-align: middle;\n",
       "    }\n",
       "\n",
       "    .dataframe tbody tr th {\n",
       "        vertical-align: top;\n",
       "    }\n",
       "\n",
       "    .dataframe thead th {\n",
       "        text-align: right;\n",
       "    }\n",
       "</style>\n",
       "<table border=\"1\" class=\"dataframe\">\n",
       "  <thead>\n",
       "    <tr style=\"text-align: right;\">\n",
       "      <th></th>\n",
       "      <th>0</th>\n",
       "    </tr>\n",
       "  </thead>\n",
       "  <tbody>\n",
       "    <tr>\n",
       "      <th>esports</th>\n",
       "      <td>11.133095</td>\n",
       "    </tr>\n",
       "    <tr>\n",
       "      <th>valorant</th>\n",
       "      <td>6.467013</td>\n",
       "    </tr>\n",
       "    <tr>\n",
       "      <th>tournament</th>\n",
       "      <td>5.815077</td>\n",
       "    </tr>\n",
       "    <tr>\n",
       "      <th>csgo</th>\n",
       "      <td>5.716129</td>\n",
       "    </tr>\n",
       "    <tr>\n",
       "      <th>gaming</th>\n",
       "      <td>5.463322</td>\n",
       "    </tr>\n",
       "    <tr>\n",
       "      <th>esl</th>\n",
       "      <td>4.838987</td>\n",
       "    </tr>\n",
       "    <tr>\n",
       "      <th>esport</th>\n",
       "      <td>4.683586</td>\n",
       "    </tr>\n",
       "    <tr>\n",
       "      <th>legend</th>\n",
       "      <td>4.361342</td>\n",
       "    </tr>\n",
       "    <tr>\n",
       "      <th>dota</th>\n",
       "      <td>4.217826</td>\n",
       "    </tr>\n",
       "    <tr>\n",
       "      <th>fortnite</th>\n",
       "      <td>3.224577</td>\n",
       "    </tr>\n",
       "    <tr>\n",
       "      <th>chaos</th>\n",
       "      <td>3.027811</td>\n",
       "    </tr>\n",
       "    <tr>\n",
       "      <th>faze</th>\n",
       "      <td>2.963643</td>\n",
       "    </tr>\n",
       "    <tr>\n",
       "      <th>competitive</th>\n",
       "      <td>2.903643</td>\n",
       "    </tr>\n",
       "    <tr>\n",
       "      <th>gamers</th>\n",
       "      <td>2.807737</td>\n",
       "    </tr>\n",
       "    <tr>\n",
       "      <th>partner</th>\n",
       "      <td>2.801566</td>\n",
       "    </tr>\n",
       "    <tr>\n",
       "      <th>overwatch</th>\n",
       "      <td>2.788282</td>\n",
       "    </tr>\n",
       "    <tr>\n",
       "      <th>ceo</th>\n",
       "      <td>2.748315</td>\n",
       "    </tr>\n",
       "    <tr>\n",
       "      <th>riot</th>\n",
       "      <td>2.736746</td>\n",
       "    </tr>\n",
       "    <tr>\n",
       "      <th>lol</th>\n",
       "      <td>2.702297</td>\n",
       "    </tr>\n",
       "    <tr>\n",
       "      <th>event</th>\n",
       "      <td>2.681013</td>\n",
       "    </tr>\n",
       "  </tbody>\n",
       "</table>\n",
       "</div>"
      ],
      "text/plain": [
       "                     0\n",
       "esports      11.133095\n",
       "valorant     6.467013 \n",
       "tournament   5.815077 \n",
       "csgo         5.716129 \n",
       "gaming       5.463322 \n",
       "esl          4.838987 \n",
       "esport       4.683586 \n",
       "legend       4.361342 \n",
       "dota         4.217826 \n",
       "fortnite     3.224577 \n",
       "chaos        3.027811 \n",
       "faze         2.963643 \n",
       "competitive  2.903643 \n",
       "gamers       2.807737 \n",
       "partner      2.801566 \n",
       "overwatch    2.788282 \n",
       "ceo          2.748315 \n",
       "riot         2.736746 \n",
       "lol          2.702297 \n",
       "event        2.681013 "
      ]
     },
     "execution_count": 57,
     "metadata": {},
     "output_type": "execute_result"
    }
   ],
   "source": [
    "pd.DataFrame(best_model.steps[1][1].coef_,\n",
    "             columns=best_model.steps[0][1].get_feature_names()).T.sort_values(0, ascending=False).head(20)"
   ]
  }
 ],
 "metadata": {
  "kernelspec": {
   "display_name": "Python 3",
   "language": "python",
   "name": "python3"
  },
  "language_info": {
   "codemirror_mode": {
    "name": "ipython",
    "version": 3
   },
   "file_extension": ".py",
   "mimetype": "text/x-python",
   "name": "python",
   "nbconvert_exporter": "python",
   "pygments_lexer": "ipython3",
   "version": "3.6.9"
  }
 },
 "nbformat": 4,
 "nbformat_minor": 2
}
